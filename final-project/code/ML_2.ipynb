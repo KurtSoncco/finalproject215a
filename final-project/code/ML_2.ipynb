{
 "cells": [
  {
   "cell_type": "markdown",
   "metadata": {},
   "source": [
    "# Machine learning model"
   ]
  },
  {
   "cell_type": "code",
   "execution_count": 39,
   "metadata": {},
   "outputs": [],
   "source": [
    "import pandas as pd\n",
    "import numpy as np\n",
    "import matplotlib.pyplot as plt\n",
    "import seaborn as sns\n",
    "\n",
    "sns.set_palette(\"colorblind\")"
   ]
  },
  {
   "cell_type": "markdown",
   "metadata": {},
   "source": [
    "## Import data"
   ]
  },
  {
   "cell_type": "code",
   "execution_count": 42,
   "metadata": {},
   "outputs": [],
   "source": [
    "df = pd.read_csv(\"../data/merged_data_cleaned.csv\", low_memory=False)\n",
    "target = pd.read_csv(\"../data/target.csv\", low_memory=False)"
   ]
  },
  {
   "cell_type": "code",
   "execution_count": 46,
   "metadata": {},
   "outputs": [
    {
     "data": {
      "text/html": [
       "<div>\n",
       "<style scoped>\n",
       "    .dataframe tbody tr th:only-of-type {\n",
       "        vertical-align: middle;\n",
       "    }\n",
       "\n",
       "    .dataframe tbody tr th {\n",
       "        vertical-align: top;\n",
       "    }\n",
       "\n",
       "    .dataframe thead th {\n",
       "        text-align: right;\n",
       "    }\n",
       "</style>\n",
       "<table border=\"1\" class=\"dataframe\">\n",
       "  <thead>\n",
       "    <tr style=\"text-align: right;\">\n",
       "      <th></th>\n",
       "      <th>site</th>\n",
       "      <th>caseid</th>\n",
       "      <th>controltype</th>\n",
       "      <th>studysubjectid</th>\n",
       "      <th>arrivaldate</th>\n",
       "      <th>arrivaltime</th>\n",
       "      <th>arrivaltimend</th>\n",
       "      <th>modearrival</th>\n",
       "      <th>receivedintransfer</th>\n",
       "      <th>dxcspineinjury</th>\n",
       "      <th>...</th>\n",
       "      <th>cspinesignalchange</th>\n",
       "      <th>signalchangelevelc1</th>\n",
       "      <th>signalchangelevelc2</th>\n",
       "      <th>signalchangelevelc3</th>\n",
       "      <th>signalchangelevelc4</th>\n",
       "      <th>signalchangelevelc5</th>\n",
       "      <th>signalchangelevelc6</th>\n",
       "      <th>signalchangelevelc7</th>\n",
       "      <th>cordinjurynoradiographic</th>\n",
       "      <th>injurydatetime</th>\n",
       "    </tr>\n",
       "  </thead>\n",
       "  <tbody>\n",
       "    <tr>\n",
       "      <th>0</th>\n",
       "      <td>1</td>\n",
       "      <td>110001</td>\n",
       "      <td>case</td>\n",
       "      <td>110001</td>\n",
       "      <td>1/1/2000</td>\n",
       "      <td>22:16</td>\n",
       "      <td>0</td>\n",
       "      <td>1</td>\n",
       "      <td>0</td>\n",
       "      <td>0</td>\n",
       "      <td>...</td>\n",
       "      <td>0</td>\n",
       "      <td>0.0</td>\n",
       "      <td>0.0</td>\n",
       "      <td>0.0</td>\n",
       "      <td>0.0</td>\n",
       "      <td>0.0</td>\n",
       "      <td>0.0</td>\n",
       "      <td>0.0</td>\n",
       "      <td>0</td>\n",
       "      <td>NaN</td>\n",
       "    </tr>\n",
       "    <tr>\n",
       "      <th>1</th>\n",
       "      <td>1</td>\n",
       "      <td>110001</td>\n",
       "      <td>ems</td>\n",
       "      <td>120027</td>\n",
       "      <td>1/1/2000</td>\n",
       "      <td>17:45</td>\n",
       "      <td>0</td>\n",
       "      <td>1</td>\n",
       "      <td>0</td>\n",
       "      <td>0</td>\n",
       "      <td>...</td>\n",
       "      <td>-1</td>\n",
       "      <td>-1.0</td>\n",
       "      <td>-1.0</td>\n",
       "      <td>-1.0</td>\n",
       "      <td>-1.0</td>\n",
       "      <td>-1.0</td>\n",
       "      <td>-1.0</td>\n",
       "      <td>-1.0</td>\n",
       "      <td>-1</td>\n",
       "      <td>NaN</td>\n",
       "    </tr>\n",
       "    <tr>\n",
       "      <th>2</th>\n",
       "      <td>1</td>\n",
       "      <td>110001</td>\n",
       "      <td>ems</td>\n",
       "      <td>120032</td>\n",
       "      <td>1/1/2000</td>\n",
       "      <td>19:58</td>\n",
       "      <td>0</td>\n",
       "      <td>1</td>\n",
       "      <td>0</td>\n",
       "      <td>0</td>\n",
       "      <td>...</td>\n",
       "      <td>-1</td>\n",
       "      <td>-1.0</td>\n",
       "      <td>-1.0</td>\n",
       "      <td>-1.0</td>\n",
       "      <td>-1.0</td>\n",
       "      <td>-1.0</td>\n",
       "      <td>-1.0</td>\n",
       "      <td>-1.0</td>\n",
       "      <td>-1</td>\n",
       "      <td>NaN</td>\n",
       "    </tr>\n",
       "    <tr>\n",
       "      <th>3</th>\n",
       "      <td>1</td>\n",
       "      <td>110001</td>\n",
       "      <td>moi</td>\n",
       "      <td>130058</td>\n",
       "      <td>1/1/2000</td>\n",
       "      <td>13:20</td>\n",
       "      <td>0</td>\n",
       "      <td>1</td>\n",
       "      <td>0</td>\n",
       "      <td>0</td>\n",
       "      <td>...</td>\n",
       "      <td>-1</td>\n",
       "      <td>-1.0</td>\n",
       "      <td>-1.0</td>\n",
       "      <td>-1.0</td>\n",
       "      <td>-1.0</td>\n",
       "      <td>-1.0</td>\n",
       "      <td>-1.0</td>\n",
       "      <td>-1.0</td>\n",
       "      <td>-1</td>\n",
       "      <td>NaN</td>\n",
       "    </tr>\n",
       "    <tr>\n",
       "      <th>4</th>\n",
       "      <td>1</td>\n",
       "      <td>110001</td>\n",
       "      <td>moi</td>\n",
       "      <td>130072</td>\n",
       "      <td>1/1/2000</td>\n",
       "      <td>16:38</td>\n",
       "      <td>0</td>\n",
       "      <td>1</td>\n",
       "      <td>0</td>\n",
       "      <td>0</td>\n",
       "      <td>...</td>\n",
       "      <td>-1</td>\n",
       "      <td>-1.0</td>\n",
       "      <td>-1.0</td>\n",
       "      <td>-1.0</td>\n",
       "      <td>-1.0</td>\n",
       "      <td>-1.0</td>\n",
       "      <td>-1.0</td>\n",
       "      <td>-1.0</td>\n",
       "      <td>-1</td>\n",
       "      <td>NaN</td>\n",
       "    </tr>\n",
       "    <tr>\n",
       "      <th>...</th>\n",
       "      <td>...</td>\n",
       "      <td>...</td>\n",
       "      <td>...</td>\n",
       "      <td>...</td>\n",
       "      <td>...</td>\n",
       "      <td>...</td>\n",
       "      <td>...</td>\n",
       "      <td>...</td>\n",
       "      <td>...</td>\n",
       "      <td>...</td>\n",
       "      <td>...</td>\n",
       "      <td>...</td>\n",
       "      <td>...</td>\n",
       "      <td>...</td>\n",
       "      <td>...</td>\n",
       "      <td>...</td>\n",
       "      <td>...</td>\n",
       "      <td>...</td>\n",
       "      <td>...</td>\n",
       "      <td>...</td>\n",
       "      <td>...</td>\n",
       "    </tr>\n",
       "    <tr>\n",
       "      <th>3309</th>\n",
       "      <td>17</td>\n",
       "      <td>1713132</td>\n",
       "      <td>ems</td>\n",
       "      <td>1723178</td>\n",
       "      <td>1/1/2000</td>\n",
       "      <td>20:37</td>\n",
       "      <td>0</td>\n",
       "      <td>1</td>\n",
       "      <td>0</td>\n",
       "      <td>0</td>\n",
       "      <td>...</td>\n",
       "      <td>-1</td>\n",
       "      <td>-1.0</td>\n",
       "      <td>-1.0</td>\n",
       "      <td>-1.0</td>\n",
       "      <td>-1.0</td>\n",
       "      <td>-1.0</td>\n",
       "      <td>-1.0</td>\n",
       "      <td>-1.0</td>\n",
       "      <td>-1</td>\n",
       "      <td>NaN</td>\n",
       "    </tr>\n",
       "    <tr>\n",
       "      <th>3310</th>\n",
       "      <td>17</td>\n",
       "      <td>1713132</td>\n",
       "      <td>moi</td>\n",
       "      <td>1733196</td>\n",
       "      <td>1/1/2000</td>\n",
       "      <td>18:05</td>\n",
       "      <td>0</td>\n",
       "      <td>1</td>\n",
       "      <td>0</td>\n",
       "      <td>0</td>\n",
       "      <td>...</td>\n",
       "      <td>-1</td>\n",
       "      <td>-1.0</td>\n",
       "      <td>-1.0</td>\n",
       "      <td>-1.0</td>\n",
       "      <td>-1.0</td>\n",
       "      <td>-1.0</td>\n",
       "      <td>-1.0</td>\n",
       "      <td>-1.0</td>\n",
       "      <td>-1</td>\n",
       "      <td>NaN</td>\n",
       "    </tr>\n",
       "    <tr>\n",
       "      <th>3311</th>\n",
       "      <td>17</td>\n",
       "      <td>1713132</td>\n",
       "      <td>moi</td>\n",
       "      <td>1733220</td>\n",
       "      <td>1/1/2000</td>\n",
       "      <td>17:05</td>\n",
       "      <td>0</td>\n",
       "      <td>1</td>\n",
       "      <td>0</td>\n",
       "      <td>0</td>\n",
       "      <td>...</td>\n",
       "      <td>-1</td>\n",
       "      <td>-1.0</td>\n",
       "      <td>-1.0</td>\n",
       "      <td>-1.0</td>\n",
       "      <td>-1.0</td>\n",
       "      <td>-1.0</td>\n",
       "      <td>-1.0</td>\n",
       "      <td>-1.0</td>\n",
       "      <td>-1</td>\n",
       "      <td>NaN</td>\n",
       "    </tr>\n",
       "    <tr>\n",
       "      <th>3312</th>\n",
       "      <td>17</td>\n",
       "      <td>1713132</td>\n",
       "      <td>ran</td>\n",
       "      <td>1743311</td>\n",
       "      <td>1/1/2000</td>\n",
       "      <td>15:50</td>\n",
       "      <td>0</td>\n",
       "      <td>1</td>\n",
       "      <td>0</td>\n",
       "      <td>0</td>\n",
       "      <td>...</td>\n",
       "      <td>-1</td>\n",
       "      <td>-1.0</td>\n",
       "      <td>-1.0</td>\n",
       "      <td>-1.0</td>\n",
       "      <td>-1.0</td>\n",
       "      <td>-1.0</td>\n",
       "      <td>-1.0</td>\n",
       "      <td>-1.0</td>\n",
       "      <td>-1</td>\n",
       "      <td>NaN</td>\n",
       "    </tr>\n",
       "    <tr>\n",
       "      <th>3313</th>\n",
       "      <td>17</td>\n",
       "      <td>1713132</td>\n",
       "      <td>ran</td>\n",
       "      <td>1743314</td>\n",
       "      <td>1/1/2000</td>\n",
       "      <td>03:05</td>\n",
       "      <td>0</td>\n",
       "      <td>1</td>\n",
       "      <td>0</td>\n",
       "      <td>0</td>\n",
       "      <td>...</td>\n",
       "      <td>-1</td>\n",
       "      <td>-1.0</td>\n",
       "      <td>-1.0</td>\n",
       "      <td>-1.0</td>\n",
       "      <td>-1.0</td>\n",
       "      <td>-1.0</td>\n",
       "      <td>-1.0</td>\n",
       "      <td>-1.0</td>\n",
       "      <td>-1</td>\n",
       "      <td>NaN</td>\n",
       "    </tr>\n",
       "  </tbody>\n",
       "</table>\n",
       "<p>3314 rows × 620 columns</p>\n",
       "</div>"
      ],
      "text/plain": [
       "      site   caseid controltype  studysubjectid arrivaldate arrivaltime  \\\n",
       "0        1   110001        case          110001    1/1/2000       22:16   \n",
       "1        1   110001         ems          120027    1/1/2000       17:45   \n",
       "2        1   110001         ems          120032    1/1/2000       19:58   \n",
       "3        1   110001         moi          130058    1/1/2000       13:20   \n",
       "4        1   110001         moi          130072    1/1/2000       16:38   \n",
       "...    ...      ...         ...             ...         ...         ...   \n",
       "3309    17  1713132         ems         1723178    1/1/2000       20:37   \n",
       "3310    17  1713132         moi         1733196    1/1/2000       18:05   \n",
       "3311    17  1713132         moi         1733220    1/1/2000       17:05   \n",
       "3312    17  1713132         ran         1743311    1/1/2000       15:50   \n",
       "3313    17  1713132         ran         1743314    1/1/2000       03:05   \n",
       "\n",
       "      arrivaltimend modearrival  receivedintransfer  dxcspineinjury  ...  \\\n",
       "0                 0           1                   0               0  ...   \n",
       "1                 0           1                   0               0  ...   \n",
       "2                 0           1                   0               0  ...   \n",
       "3                 0           1                   0               0  ...   \n",
       "4                 0           1                   0               0  ...   \n",
       "...             ...         ...                 ...             ...  ...   \n",
       "3309              0           1                   0               0  ...   \n",
       "3310              0           1                   0               0  ...   \n",
       "3311              0           1                   0               0  ...   \n",
       "3312              0           1                   0               0  ...   \n",
       "3313              0           1                   0               0  ...   \n",
       "\n",
       "     cspinesignalchange  signalchangelevelc1  signalchangelevelc2  \\\n",
       "0                     0                  0.0                  0.0   \n",
       "1                    -1                 -1.0                 -1.0   \n",
       "2                    -1                 -1.0                 -1.0   \n",
       "3                    -1                 -1.0                 -1.0   \n",
       "4                    -1                 -1.0                 -1.0   \n",
       "...                 ...                  ...                  ...   \n",
       "3309                 -1                 -1.0                 -1.0   \n",
       "3310                 -1                 -1.0                 -1.0   \n",
       "3311                 -1                 -1.0                 -1.0   \n",
       "3312                 -1                 -1.0                 -1.0   \n",
       "3313                 -1                 -1.0                 -1.0   \n",
       "\n",
       "      signalchangelevelc3  signalchangelevelc4  signalchangelevelc5  \\\n",
       "0                     0.0                  0.0                  0.0   \n",
       "1                    -1.0                 -1.0                 -1.0   \n",
       "2                    -1.0                 -1.0                 -1.0   \n",
       "3                    -1.0                 -1.0                 -1.0   \n",
       "4                    -1.0                 -1.0                 -1.0   \n",
       "...                   ...                  ...                  ...   \n",
       "3309                 -1.0                 -1.0                 -1.0   \n",
       "3310                 -1.0                 -1.0                 -1.0   \n",
       "3311                 -1.0                 -1.0                 -1.0   \n",
       "3312                 -1.0                 -1.0                 -1.0   \n",
       "3313                 -1.0                 -1.0                 -1.0   \n",
       "\n",
       "      signalchangelevelc6  signalchangelevelc7  cordinjurynoradiographic  \\\n",
       "0                     0.0                  0.0                         0   \n",
       "1                    -1.0                 -1.0                        -1   \n",
       "2                    -1.0                 -1.0                        -1   \n",
       "3                    -1.0                 -1.0                        -1   \n",
       "4                    -1.0                 -1.0                        -1   \n",
       "...                   ...                  ...                       ...   \n",
       "3309                 -1.0                 -1.0                        -1   \n",
       "3310                 -1.0                 -1.0                        -1   \n",
       "3311                 -1.0                 -1.0                        -1   \n",
       "3312                 -1.0                 -1.0                        -1   \n",
       "3313                 -1.0                 -1.0                        -1   \n",
       "\n",
       "      injurydatetime  \n",
       "0                NaN  \n",
       "1                NaN  \n",
       "2                NaN  \n",
       "3                NaN  \n",
       "4                NaN  \n",
       "...              ...  \n",
       "3309             NaN  \n",
       "3310             NaN  \n",
       "3311             NaN  \n",
       "3312             NaN  \n",
       "3313             NaN  \n",
       "\n",
       "[3314 rows x 620 columns]"
      ]
     },
     "execution_count": 46,
     "metadata": {},
     "output_type": "execute_result"
    }
   ],
   "source": [
    "df"
   ]
  },
  {
   "cell_type": "markdown",
   "metadata": {},
   "source": [
    "## EDA"
   ]
  },
  {
   "cell_type": "code",
   "execution_count": 53,
   "metadata": {},
   "outputs": [
    {
     "data": {
      "text/plain": [
       "<Axes: xlabel='controltype', ylabel='CSFractures'>"
      ]
     },
     "execution_count": 53,
     "metadata": {},
     "output_type": "execute_result"
    },
    {
     "data": {
      "image/png": "[encoded data removed]",
      "text/plain": [
       "<Figure size 640x480 with 1 Axes>"
      ]
     },
     "metadata": {},
     "output_type": "display_data"
    }
   ],
   "source": [
    "sns.barplot(y=target[\"CSFractures\"], x=df[\"controltype\"].str.capitalize(), color=\"skyblue\")"
   ]
  },
  {
   "cell_type": "code",
   "execution_count": 52,
   "metadata": {},
   "outputs": [
    {
     "data": {
      "text/plain": [
       "0       Ed\n",
       "1       Ed\n",
       "2       Ed\n",
       "3       Ed\n",
       "4       Ed\n",
       "        ..\n",
       "3309    Ed\n",
       "3310    Ed\n",
       "3311    Ed\n",
       "3312    Ed\n",
       "3313    Ed\n",
       "Name: locevalphysician, Length: 3314, dtype: object"
      ]
     },
     "execution_count": 52,
     "metadata": {},
     "output_type": "execute_result"
    }
   ],
   "source": [
    "df[\"locevalphysician\"].str.capitalize()"
   ]
  },
  {
   "cell_type": "code",
   "execution_count": 54,
   "metadata": {},
   "outputs": [
    {
     "data": {
      "text/plain": [
       "<Axes: xlabel='locevalphysician', ylabel='CSFractures'>"
      ]
     },
     "execution_count": 54,
     "metadata": {},
     "output_type": "execute_result"
    },
    {
     "data": {
      "image/png": "[encoded data removed]",
      "text/plain": [
       "<Figure size 640x480 with 1 Axes>"
      ]
     },
     "metadata": {},
     "output_type": "display_data"
    }
   ],
   "source": [
    "sns.barplot(y=target[\"CSFractures\"], x=df[\"locevalphysician\"].str.capitalize(), color=\"skyblue\", errorbar=None)"
   ]
  },
  {
   "cell_type": "code",
   "execution_count": 58,
   "metadata": {},
   "outputs": [
    {
     "data": {
      "text/plain": [
       "0        True\n",
       "1        True\n",
       "2        True\n",
       "3        True\n",
       "4       False\n",
       "        ...  \n",
       "3309    False\n",
       "3310    False\n",
       "3311    False\n",
       "3312    False\n",
       "3313    False\n",
       "Name: CSFractures, Length: 3314, dtype: bool"
      ]
     },
     "execution_count": 58,
     "metadata": {},
     "output_type": "execute_result"
    }
   ],
   "source": [
    "target[\"CSFractures\"]"
   ]
  },
  {
   "cell_type": "code",
   "execution_count": 57,
   "metadata": {},
   "outputs": [
    {
     "data": {
      "text/plain": [
       "<Axes: xlabel='site', ylabel='CSFractures'>"
      ]
     },
     "execution_count": 57,
     "metadata": {},
     "output_type": "execute_result"
    },
    {
     "data": {
      "image/png": "[encoded data removed]",
      "text/plain": [
       "<Figure size 640x480 with 1 Axes>"
      ]
     },
     "metadata": {},
     "output_type": "display_data"
    }
   ],
   "source": [
    "sns.barplot(y=target[\"CSFractures\"], x=df[\"site\"], color=\"skyblue\")"
   ]
  },
  {
   "cell_type": "code",
   "execution_count": null,
   "metadata": {},
   "outputs": [
    {
     "ename": "ValueError",
     "evalue": "could not convert string to float: 'ED'",
     "output_type": "error",
     "traceback": [
      "\u001b[1;31m---------------------------------------------------------------------------\u001b[0m",
      "\u001b[1;31mValueError\u001b[0m                                Traceback (most recent call last)",
      "Cell \u001b[1;32mIn[33], line 14\u001b[0m\n\u001b[0;32m     11\u001b[0m df\u001b[38;5;241m.\u001b[39mloc[df[\u001b[38;5;124m\"\u001b[39m\u001b[38;5;124mtotalgcs\u001b[39m\u001b[38;5;124m\"\u001b[39m] \u001b[38;5;241m==\u001b[39m \u001b[38;5;124m\"\u001b[39m\u001b[38;5;124m7T\u001b[39m\u001b[38;5;124m\"\u001b[39m,\u001b[38;5;124m\"\u001b[39m\u001b[38;5;124mtotalgcs\u001b[39m\u001b[38;5;124m\"\u001b[39m] \u001b[38;5;241m=\u001b[39m \u001b[38;5;241m7\u001b[39m\n\u001b[0;32m     13\u001b[0m \u001b[38;5;66;03m# Convert all data into float\u001b[39;00m\n\u001b[1;32m---> 14\u001b[0m df \u001b[38;5;241m=\u001b[39m \u001b[43mdf\u001b[49m\u001b[38;5;241;43m.\u001b[39;49m\u001b[43mastype\u001b[49m\u001b[43m(\u001b[49m\u001b[38;5;28;43mfloat\u001b[39;49m\u001b[43m)\u001b[49m\n",
      "File \u001b[1;32mc:\\Users\\kurt-\\miniconda3\\envs\\215a\\Lib\\site-packages\\pandas\\core\\generic.py:6643\u001b[0m, in \u001b[0;36mNDFrame.astype\u001b[1;34m(self, dtype, copy, errors)\u001b[0m\n\u001b[0;32m   6637\u001b[0m     results \u001b[38;5;241m=\u001b[39m [\n\u001b[0;32m   6638\u001b[0m         ser\u001b[38;5;241m.\u001b[39mastype(dtype, copy\u001b[38;5;241m=\u001b[39mcopy, errors\u001b[38;5;241m=\u001b[39merrors) \u001b[38;5;28;01mfor\u001b[39;00m _, ser \u001b[38;5;129;01min\u001b[39;00m \u001b[38;5;28mself\u001b[39m\u001b[38;5;241m.\u001b[39mitems()\n\u001b[0;32m   6639\u001b[0m     ]\n\u001b[0;32m   6641\u001b[0m \u001b[38;5;28;01melse\u001b[39;00m:\n\u001b[0;32m   6642\u001b[0m     \u001b[38;5;66;03m# else, only a single dtype is given\u001b[39;00m\n\u001b[1;32m-> 6643\u001b[0m     new_data \u001b[38;5;241m=\u001b[39m \u001b[38;5;28;43mself\u001b[39;49m\u001b[38;5;241;43m.\u001b[39;49m\u001b[43m_mgr\u001b[49m\u001b[38;5;241;43m.\u001b[39;49m\u001b[43mastype\u001b[49m\u001b[43m(\u001b[49m\u001b[43mdtype\u001b[49m\u001b[38;5;241;43m=\u001b[39;49m\u001b[43mdtype\u001b[49m\u001b[43m,\u001b[49m\u001b[43m \u001b[49m\u001b[43mcopy\u001b[49m\u001b[38;5;241;43m=\u001b[39;49m\u001b[43mcopy\u001b[49m\u001b[43m,\u001b[49m\u001b[43m \u001b[49m\u001b[43merrors\u001b[49m\u001b[38;5;241;43m=\u001b[39;49m\u001b[43merrors\u001b[49m\u001b[43m)\u001b[49m\n\u001b[0;32m   6644\u001b[0m     res \u001b[38;5;241m=\u001b[39m \u001b[38;5;28mself\u001b[39m\u001b[38;5;241m.\u001b[39m_constructor_from_mgr(new_data, axes\u001b[38;5;241m=\u001b[39mnew_data\u001b[38;5;241m.\u001b[39maxes)\n\u001b[0;32m   6645\u001b[0m     \u001b[38;5;28;01mreturn\u001b[39;00m res\u001b[38;5;241m.\u001b[39m__finalize__(\u001b[38;5;28mself\u001b[39m, method\u001b[38;5;241m=\u001b[39m\u001b[38;5;124m\"\u001b[39m\u001b[38;5;124mastype\u001b[39m\u001b[38;5;124m\"\u001b[39m)\n",
      "File \u001b[1;32mc:\\Users\\kurt-\\miniconda3\\envs\\215a\\Lib\\site-packages\\pandas\\core\\internals\\managers.py:430\u001b[0m, in \u001b[0;36mBaseBlockManager.astype\u001b[1;34m(self, dtype, copy, errors)\u001b[0m\n\u001b[0;32m    427\u001b[0m \u001b[38;5;28;01melif\u001b[39;00m using_copy_on_write():\n\u001b[0;32m    428\u001b[0m     copy \u001b[38;5;241m=\u001b[39m \u001b[38;5;28;01mFalse\u001b[39;00m\n\u001b[1;32m--> 430\u001b[0m \u001b[38;5;28;01mreturn\u001b[39;00m \u001b[38;5;28;43mself\u001b[39;49m\u001b[38;5;241;43m.\u001b[39;49m\u001b[43mapply\u001b[49m\u001b[43m(\u001b[49m\n\u001b[0;32m    431\u001b[0m \u001b[43m    \u001b[49m\u001b[38;5;124;43m\"\u001b[39;49m\u001b[38;5;124;43mastype\u001b[39;49m\u001b[38;5;124;43m\"\u001b[39;49m\u001b[43m,\u001b[49m\n\u001b[0;32m    432\u001b[0m \u001b[43m    \u001b[49m\u001b[43mdtype\u001b[49m\u001b[38;5;241;43m=\u001b[39;49m\u001b[43mdtype\u001b[49m\u001b[43m,\u001b[49m\n\u001b[0;32m    433\u001b[0m \u001b[43m    \u001b[49m\u001b[43mcopy\u001b[49m\u001b[38;5;241;43m=\u001b[39;49m\u001b[43mcopy\u001b[49m\u001b[43m,\u001b[49m\n\u001b[0;32m    434\u001b[0m \u001b[43m    \u001b[49m\u001b[43merrors\u001b[49m\u001b[38;5;241;43m=\u001b[39;49m\u001b[43merrors\u001b[49m\u001b[43m,\u001b[49m\n\u001b[0;32m    435\u001b[0m \u001b[43m    \u001b[49m\u001b[43musing_cow\u001b[49m\u001b[38;5;241;43m=\u001b[39;49m\u001b[43musing_copy_on_write\u001b[49m\u001b[43m(\u001b[49m\u001b[43m)\u001b[49m\u001b[43m,\u001b[49m\n\u001b[0;32m    436\u001b[0m \u001b[43m\u001b[49m\u001b[43m)\u001b[49m\n",
      "File \u001b[1;32mc:\\Users\\kurt-\\miniconda3\\envs\\215a\\Lib\\site-packages\\pandas\\core\\internals\\managers.py:363\u001b[0m, in \u001b[0;36mBaseBlockManager.apply\u001b[1;34m(self, f, align_keys, **kwargs)\u001b[0m\n\u001b[0;32m    361\u001b[0m         applied \u001b[38;5;241m=\u001b[39m b\u001b[38;5;241m.\u001b[39mapply(f, \u001b[38;5;241m*\u001b[39m\u001b[38;5;241m*\u001b[39mkwargs)\n\u001b[0;32m    362\u001b[0m     \u001b[38;5;28;01melse\u001b[39;00m:\n\u001b[1;32m--> 363\u001b[0m         applied \u001b[38;5;241m=\u001b[39m \u001b[38;5;28;43mgetattr\u001b[39;49m\u001b[43m(\u001b[49m\u001b[43mb\u001b[49m\u001b[43m,\u001b[49m\u001b[43m \u001b[49m\u001b[43mf\u001b[49m\u001b[43m)\u001b[49m\u001b[43m(\u001b[49m\u001b[38;5;241;43m*\u001b[39;49m\u001b[38;5;241;43m*\u001b[39;49m\u001b[43mkwargs\u001b[49m\u001b[43m)\u001b[49m\n\u001b[0;32m    364\u001b[0m     result_blocks \u001b[38;5;241m=\u001b[39m extend_blocks(applied, result_blocks)\n\u001b[0;32m    366\u001b[0m out \u001b[38;5;241m=\u001b[39m \u001b[38;5;28mtype\u001b[39m(\u001b[38;5;28mself\u001b[39m)\u001b[38;5;241m.\u001b[39mfrom_blocks(result_blocks, \u001b[38;5;28mself\u001b[39m\u001b[38;5;241m.\u001b[39maxes)\n",
      "File \u001b[1;32mc:\\Users\\kurt-\\miniconda3\\envs\\215a\\Lib\\site-packages\\pandas\\core\\internals\\blocks.py:758\u001b[0m, in \u001b[0;36mBlock.astype\u001b[1;34m(self, dtype, copy, errors, using_cow, squeeze)\u001b[0m\n\u001b[0;32m    755\u001b[0m         \u001b[38;5;28;01mraise\u001b[39;00m \u001b[38;5;167;01mValueError\u001b[39;00m(\u001b[38;5;124m\"\u001b[39m\u001b[38;5;124mCan not squeeze with more than one column.\u001b[39m\u001b[38;5;124m\"\u001b[39m)\n\u001b[0;32m    756\u001b[0m     values \u001b[38;5;241m=\u001b[39m values[\u001b[38;5;241m0\u001b[39m, :]  \u001b[38;5;66;03m# type: ignore[call-overload]\u001b[39;00m\n\u001b[1;32m--> 758\u001b[0m new_values \u001b[38;5;241m=\u001b[39m \u001b[43mastype_array_safe\u001b[49m\u001b[43m(\u001b[49m\u001b[43mvalues\u001b[49m\u001b[43m,\u001b[49m\u001b[43m \u001b[49m\u001b[43mdtype\u001b[49m\u001b[43m,\u001b[49m\u001b[43m \u001b[49m\u001b[43mcopy\u001b[49m\u001b[38;5;241;43m=\u001b[39;49m\u001b[43mcopy\u001b[49m\u001b[43m,\u001b[49m\u001b[43m \u001b[49m\u001b[43merrors\u001b[49m\u001b[38;5;241;43m=\u001b[39;49m\u001b[43merrors\u001b[49m\u001b[43m)\u001b[49m\n\u001b[0;32m    760\u001b[0m new_values \u001b[38;5;241m=\u001b[39m maybe_coerce_values(new_values)\n\u001b[0;32m    762\u001b[0m refs \u001b[38;5;241m=\u001b[39m \u001b[38;5;28;01mNone\u001b[39;00m\n",
      "File \u001b[1;32mc:\\Users\\kurt-\\miniconda3\\envs\\215a\\Lib\\site-packages\\pandas\\core\\dtypes\\astype.py:237\u001b[0m, in \u001b[0;36mastype_array_safe\u001b[1;34m(values, dtype, copy, errors)\u001b[0m\n\u001b[0;32m    234\u001b[0m     dtype \u001b[38;5;241m=\u001b[39m dtype\u001b[38;5;241m.\u001b[39mnumpy_dtype\n\u001b[0;32m    236\u001b[0m \u001b[38;5;28;01mtry\u001b[39;00m:\n\u001b[1;32m--> 237\u001b[0m     new_values \u001b[38;5;241m=\u001b[39m \u001b[43mastype_array\u001b[49m\u001b[43m(\u001b[49m\u001b[43mvalues\u001b[49m\u001b[43m,\u001b[49m\u001b[43m \u001b[49m\u001b[43mdtype\u001b[49m\u001b[43m,\u001b[49m\u001b[43m \u001b[49m\u001b[43mcopy\u001b[49m\u001b[38;5;241;43m=\u001b[39;49m\u001b[43mcopy\u001b[49m\u001b[43m)\u001b[49m\n\u001b[0;32m    238\u001b[0m \u001b[38;5;28;01mexcept\u001b[39;00m (\u001b[38;5;167;01mValueError\u001b[39;00m, \u001b[38;5;167;01mTypeError\u001b[39;00m):\n\u001b[0;32m    239\u001b[0m     \u001b[38;5;66;03m# e.g. _astype_nansafe can fail on object-dtype of strings\u001b[39;00m\n\u001b[0;32m    240\u001b[0m     \u001b[38;5;66;03m#  trying to convert to float\u001b[39;00m\n\u001b[0;32m    241\u001b[0m     \u001b[38;5;28;01mif\u001b[39;00m errors \u001b[38;5;241m==\u001b[39m \u001b[38;5;124m\"\u001b[39m\u001b[38;5;124mignore\u001b[39m\u001b[38;5;124m\"\u001b[39m:\n",
      "File \u001b[1;32mc:\\Users\\kurt-\\miniconda3\\envs\\215a\\Lib\\site-packages\\pandas\\core\\dtypes\\astype.py:182\u001b[0m, in \u001b[0;36mastype_array\u001b[1;34m(values, dtype, copy)\u001b[0m\n\u001b[0;32m    179\u001b[0m     values \u001b[38;5;241m=\u001b[39m values\u001b[38;5;241m.\u001b[39mastype(dtype, copy\u001b[38;5;241m=\u001b[39mcopy)\n\u001b[0;32m    181\u001b[0m \u001b[38;5;28;01melse\u001b[39;00m:\n\u001b[1;32m--> 182\u001b[0m     values \u001b[38;5;241m=\u001b[39m \u001b[43m_astype_nansafe\u001b[49m\u001b[43m(\u001b[49m\u001b[43mvalues\u001b[49m\u001b[43m,\u001b[49m\u001b[43m \u001b[49m\u001b[43mdtype\u001b[49m\u001b[43m,\u001b[49m\u001b[43m \u001b[49m\u001b[43mcopy\u001b[49m\u001b[38;5;241;43m=\u001b[39;49m\u001b[43mcopy\u001b[49m\u001b[43m)\u001b[49m\n\u001b[0;32m    184\u001b[0m \u001b[38;5;66;03m# in pandas we don't store numpy str dtypes, so convert to object\u001b[39;00m\n\u001b[0;32m    185\u001b[0m \u001b[38;5;28;01mif\u001b[39;00m \u001b[38;5;28misinstance\u001b[39m(dtype, np\u001b[38;5;241m.\u001b[39mdtype) \u001b[38;5;129;01mand\u001b[39;00m \u001b[38;5;28missubclass\u001b[39m(values\u001b[38;5;241m.\u001b[39mdtype\u001b[38;5;241m.\u001b[39mtype, \u001b[38;5;28mstr\u001b[39m):\n",
      "File \u001b[1;32mc:\\Users\\kurt-\\miniconda3\\envs\\215a\\Lib\\site-packages\\pandas\\core\\dtypes\\astype.py:133\u001b[0m, in \u001b[0;36m_astype_nansafe\u001b[1;34m(arr, dtype, copy, skipna)\u001b[0m\n\u001b[0;32m    129\u001b[0m     \u001b[38;5;28;01mraise\u001b[39;00m \u001b[38;5;167;01mValueError\u001b[39;00m(msg)\n\u001b[0;32m    131\u001b[0m \u001b[38;5;28;01mif\u001b[39;00m copy \u001b[38;5;129;01mor\u001b[39;00m arr\u001b[38;5;241m.\u001b[39mdtype \u001b[38;5;241m==\u001b[39m \u001b[38;5;28mobject\u001b[39m \u001b[38;5;129;01mor\u001b[39;00m dtype \u001b[38;5;241m==\u001b[39m \u001b[38;5;28mobject\u001b[39m:\n\u001b[0;32m    132\u001b[0m     \u001b[38;5;66;03m# Explicit copy, or required since NumPy can't view from / to object.\u001b[39;00m\n\u001b[1;32m--> 133\u001b[0m     \u001b[38;5;28;01mreturn\u001b[39;00m \u001b[43marr\u001b[49m\u001b[38;5;241;43m.\u001b[39;49m\u001b[43mastype\u001b[49m\u001b[43m(\u001b[49m\u001b[43mdtype\u001b[49m\u001b[43m,\u001b[49m\u001b[43m \u001b[49m\u001b[43mcopy\u001b[49m\u001b[38;5;241;43m=\u001b[39;49m\u001b[38;5;28;43;01mTrue\u001b[39;49;00m\u001b[43m)\u001b[49m\n\u001b[0;32m    135\u001b[0m \u001b[38;5;28;01mreturn\u001b[39;00m arr\u001b[38;5;241m.\u001b[39mastype(dtype, copy\u001b[38;5;241m=\u001b[39mcopy)\n",
      "\u001b[1;31mValueError\u001b[0m: could not convert string to float: 'ED'"
     ]
    }
   ],
   "source": [
    "# Drop column\n",
    "df.drop(columns='injurydatetime', inplace=True)\n",
    "df.drop(columns=[\"arrivaldate\",\"arrivaltimend\",\"arrivaltime\"], inplace=True)\n",
    "df.drop(columns=[\"sectiongcsavailable\",\"totalgcsavailable\",\"totalgcsmanual\",\"gcseye\",\"verbalgcs\",\"motorgcs\"], inplace=True)\n",
    "df.drop(columns=[\"controltype\", \"locevalphysician\"], inplace=True)\n",
    "\n",
    "# Convert \"ND\" to Nan\n",
    "df = df.replace('ND', np.nan)\n",
    "\n",
    "# Clean the data\n",
    "df.loc[df[\"totalgcs\"] == \"7T\",\"totalgcs\"] = 7\n",
    "\n",
    "# Convert all data into float\n",
    "df = df.astype(float)"
   ]
  },
  {
   "cell_type": "code",
   "execution_count": 34,
   "metadata": {},
   "outputs": [
    {
     "data": {
      "text/plain": [
       "ethnicity                          2705\n",
       "race                                687\n",
       "limitedrangemotion_dup              507\n",
       "pttender_dup                        474\n",
       "sectiongcsavailable_dup             461\n",
       "ptsensoryloss_dup                   422\n",
       "ptparesthesias_dup                  422\n",
       "ptcomppainneckmove_dup              401\n",
       "payortypeci                         395\n",
       "payortype                           369\n",
       "ptextremityweakness_dup             364\n",
       "otherneurodeficit_dup               330\n",
       "helmet_dup                          324\n",
       "hxloc_dup                           318\n",
       "hxloc                               220\n",
       "totalgcsavailable_dup               197\n",
       "ptcomppain_dup                      182\n",
       "minorinjurieslist                   141\n",
       "otherinjuries_dup                   125\n",
       "payortypema                         118\n",
       "ptambulatoryprioremsarrival_dup      93\n",
       "cervicalspineimmobilization          74\n",
       "cspineprecautions                    62\n",
       "patientsposition_dup                 53\n",
       "modearrival                          44\n",
       "modearrivaloutsidehospital           44\n",
       "otherinjuries                        35\n",
       "minorinjuries                        29\n",
       "ptambulatorypriorarrival_dup         26\n",
       "clotheslining_dup                     9\n",
       "injuryprimarymechanism_dup            1\n",
       "gender                                1\n",
       "dtype: int64"
      ]
     },
     "execution_count": 34,
     "metadata": {},
     "output_type": "execute_result"
    }
   ],
   "source": [
    "# Which columns have Nan values?\n",
    "nan_values = df.isna().sum()\n",
    "nan_values = nan_values[nan_values > 0]\n",
    "nan_values = nan_values.sort_values(ascending=False)\n",
    "\n",
    "nan_values"
   ]
  },
  {
   "cell_type": "code",
   "execution_count": 35,
   "metadata": {},
   "outputs": [
    {
     "data": {
      "text/plain": [
       "totalgcs\n",
       "15      1342\n",
       "-1       855\n",
       "15.0     597\n",
       "3        117\n",
       "14        92\n",
       "13        41\n",
       "14.0      37\n",
       "3.0       30\n",
       "7         27\n",
       "12        26\n",
       "10        22\n",
       "6         21\n",
       "11        18\n",
       "13.0      13\n",
       "9         12\n",
       "8         12\n",
       "4          7\n",
       "9.0        7\n",
       "10.0       7\n",
       "5          5\n",
       "12.0       5\n",
       "11.0       4\n",
       "6.0        4\n",
       "5.0        4\n",
       "8.0        3\n",
       "4.0        3\n",
       "7.0        2\n",
       "7          1\n",
       "Name: count, dtype: int64"
      ]
     },
     "execution_count": 35,
     "metadata": {},
     "output_type": "execute_result"
    }
   ],
   "source": [
    "df[\"totalgcs\"].value_counts()"
   ]
  },
  {
   "cell_type": "code",
   "execution_count": 26,
   "metadata": {},
   "outputs": [
    {
     "data": {
      "text/plain": [
       "Index(['controltype', 'modearrival', 'locevalphysician', 'hxloc', 'totalgcs',\n",
       "       'pttender', 'limitedrangemotion', 'otherinjuries', 'minorinjuries',\n",
       "       'ptparesthesias', 'ptsensoryloss', 'intubatedss', 'eddisposition',\n",
       "       'emsarrivaldate', 'emsarrivaltime', 'hxloc_dup',\n",
       "       'sectiongcsavailable_dup', 'totalgcsavailable_dup', 'avpudetails_dup',\n",
       "       'avpumental_dup', 'avpumentaltxt_dup', 'avpumentaltxtcat_dup',\n",
       "       'ptcomppain_dup', 'ptcomppainneckmove_dup', 'pttender_dup',\n",
       "       'limitedrangemotion_dup', 'otherinjuries_dup', 'minorinjurieslist',\n",
       "       'ptparesthesias_dup', 'ptsensoryloss_dup', 'ptextremityweakness_dup',\n",
       "       'otherneurodeficit_dup', 'otherneurodeficitdesc_dup',\n",
       "       'otherneurodeficitdesccat_dup', 'cervicalspineprecautions',\n",
       "       'medsgivenothertxt_dup', 'intubatedbyems',\n",
       "       'pttenderneckothertxtcat_dup', 'ptambulatorypriorarrival_dup',\n",
       "       'pttenderneckothertxt_dup', 'intervforcervicalstabintfixtxt_dup',\n",
       "       'intervforcervicalstabothertxt_dup', 'outcomestudysite_dup',\n",
       "       'outcomestudysiteneuro_dup', 'outcomestudysitemobility_dup',\n",
       "       'outcomestudysitebowel_dup', 'outcomestudysiteurine_dup',\n",
       "       'fielddocumentation_dup', 'ptambulatoryprioremsarrival_dup',\n",
       "       'patientsposition_dup', 'clotheslining_dup',\n",
       "       'otherpredisposingcondition', 'outsideed', 'icd9mechinjury1',\n",
       "       'icd9mechinjury2', 'icd9mechinjury3', 'icd9location1', 'icd9location2',\n",
       "       'icd9location3', 'injuryprimarymechanism_dup',\n",
       "       'injuryprimarymechanismtxt_dup', 'helmet_dup', 'eddocumentation_dup',\n",
       "       'edarrivaldate', 'edarrivaltime', 'modearrivaloutsidehospital',\n",
       "       'cervicalspineimmobilization_dup', 'cervicalspineintervothertxt_dup',\n",
       "       'cervicalspineprecautions_dup', 'cervicalspineprecautionsothertxt_dup',\n",
       "       'intubateded', 'outsideeddisposition', 'reviewresult', 'gender', 'race',\n",
       "       'ethnicity', 'payortype', 'payortypeci', 'payortypema',\n",
       "       'c1sbfracturetype', 'c2sbfracturetypepars', 'c3sbfracturepetype',\n",
       "       'c3sbfracturefttype', 'c4sbfracturepetype', 'c4sbfracturefttype',\n",
       "       'c5sbfracturepetype', 'c5sbfracturefttype', 'c6sbfracturepetype',\n",
       "       'c6sbfracturefttype', 'c7sbfracturepetype', 'c7sbfracturefttype',\n",
       "       'c1_2sbligfdub', 'c2_3sbligfdub', 'c3_4sbligfdub', 'c4_5sbligfdub',\n",
       "       'c5_6sbligfdub', 'c6_7sbligfdub'],\n",
       "      dtype='object')"
      ]
     },
     "execution_count": 26,
     "metadata": {},
     "output_type": "execute_result"
    }
   ],
   "source": [
    "# Which columns have object data type?\n",
    "object_columns = df.select_dtypes(include='object').columns\n",
    "object_columns"
   ]
  },
  {
   "cell_type": "code",
   "execution_count": null,
   "metadata": {},
   "outputs": [],
   "source": []
  }
 ],
 "metadata": {
  "kernelspec": {
   "display_name": "215a",
   "language": "python",
   "name": "python3"
  },
  "language_info": {
   "codemirror_mode": {
    "name": "ipython",
    "version": 3
   },
   "file_extension": ".py",
   "mimetype": "text/x-python",
   "name": "python",
   "nbconvert_exporter": "python",
   "pygments_lexer": "ipython3",
   "version": "3.12.7"
  }
 },
 "nbformat": 4,
 "nbformat_minor": 2
}
